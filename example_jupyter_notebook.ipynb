{
  "nbformat": 4,
  "nbformat_minor": 0,
  "metadata": {
    "kernelspec": {
      "display_name": "Python 2",
      "language": "python",
      "name": "python2"
    },
    "language_info": {
      "codemirror_mode": {
        "name": "ipython",
        "version": 2
      },
      "file_extension": ".py",
      "mimetype": "text/x-python",
      "name": "python",
      "nbconvert_exporter": "python",
      "pygments_lexer": "ipython2",
      "version": "2.7.12"
    },
    "colab": {
      "name": "example-jupyter-notebook.ipynb",
      "provenance": [],
      "include_colab_link": true
    }
  },
  "cells": [
    {
      "cell_type": "markdown",
      "metadata": {
        "id": "view-in-github",
        "colab_type": "text"
      },
      "source": [
        "<a href=\"https://colab.research.google.com/github/nessa98/hello-world-v2/blob/master/example_jupyter_notebook.ipynb\" target=\"_parent\"><img src=\"https://colab.research.google.com/assets/colab-badge.svg\" alt=\"Open In Colab\"/></a>"
      ]
    },
    {
      "cell_type": "code",
      "metadata": {
        "id": "hUhUWQH5PujH",
        "colab_type": "code",
        "colab": {}
      },
      "source": [
        "# Import the packages we need\n",
        "import numpy as np # numerical python\n",
        "import matplotlib.pyplot as plt # plotting package\n",
        "%matplotlib inline"
      ],
      "execution_count": 0,
      "outputs": []
    },
    {
      "cell_type": "code",
      "metadata": {
        "id": "D7rL7qYNPujX",
        "colab_type": "code",
        "colab": {}
      },
      "source": [
        "# Generate some data--a linear relationship with scatter.\n",
        "slope = 0.7 # slope\n",
        "int = 1.3   # intercept\n",
        "coeff = [slope, int] # note: the order is important\n",
        "scatter = 0.5\n",
        "\n",
        "npts = 100\n",
        "xval = np.random.uniform(0.0, 10.0, npts)    # random independent variable\n",
        "yval = np.polyval(coeff, xval)              # evaluate the polynomial\n",
        "yval = yval + np.random.normal(0.0, scatter, npts) # add scatter\n",
        "# Generate some data--a linear relationship with scatter.\n",
        "slope = 0.7 # slope\n",
        "int = 1.3   # intercept\n",
        "coeff = [slope, int] # note: the order is important\n",
        "scatter = 0.5\n",
        "\n",
        "npts = 100\n",
        "xval = np.random.uniform(0.0, 10.0, npts)    # random independent variable\n",
        "yval = np.polyval(coeff, xval)               # evaluate the polynomial\n",
        "yerr = np.random.normal(0.0, scatter, npts)\n",
        "yval += yerr # add scatter"
      ],
      "execution_count": 0,
      "outputs": []
    },
    {
      "cell_type": "code",
      "metadata": {
        "id": "lUQXL7TmPujm",
        "colab_type": "code",
        "colab": {}
      },
      "source": [
        "# Just to show you show to do it, write out a simple text file and then read \n",
        "# it back in.  And for fun let's change the names of the variables.\n",
        "examplefile = 'example.txt'\n",
        "np.savetxt(examplefile, zip(xval, yval, yerr))\n",
        "xdata, ydata, yunc = np.loadtxt(examplefile, unpack=True)"
      ],
      "execution_count": 0,
      "outputs": []
    },
    {
      "cell_type": "code",
      "metadata": {
        "id": "Q9tMkBLlPujs",
        "colab_type": "code",
        "outputId": "a44c829b-a7f1-4931-8021-b9d74b859b31",
        "colab": {}
      },
      "source": [
        "# Now fit a linear model.\n",
        "bestcoeff = np.polyfit(xdata, ydata,1)\n",
        "print('Input coefficients {}'.format(coeff))\n",
        "print('Best-fitting coefficients {}'.format(bestcoeff))"
      ],
      "execution_count": 0,
      "outputs": [
        {
          "output_type": "stream",
          "text": [
            "Input coefficients [0.7, 1.3]\n",
            "Best-fitting coefficients [ 0.66594126  1.4678857 ]\n"
          ],
          "name": "stdout"
        }
      ]
    },
    {
      "cell_type": "code",
      "metadata": {
        "id": "mjad9ZxnPuj1",
        "colab_type": "code",
        "outputId": "06ed3928-3295-44cb-da93-23016b487af5",
        "colab": {}
      },
      "source": [
        "# Finally make a scatterplot including error bars.\n",
        "pngfile = 'example-figure.png'\n",
        "fig = plt.figure(figsize=(5,4))\n",
        "plt.errorbar(xdata, ydata, yunc, fmt='s', color='g')\n",
        "plt.xlabel('X values',fontsize=16)\n",
        "plt.ylabel('Y values',fontsize=16)\n",
        "plt.plot(xdata, np.polyval(bestcoeff, xdata), ls='-', lw=2,\n",
        "         color='red', label='Best-Fitting Line')\n",
        "plt.legend(loc='upper left')\n",
        "plt.margins(0.05)\n",
        "fig.savefig(pngfile)"
      ],
      "execution_count": 0,
      "outputs": [
        {
          "output_type": "display_data",
          "data": {
            "image/png": "[encoded data removed]",
            "text/plain": [
              "<matplotlib.figure.Figure at 0x10a3dda50>"
            ]
          },
          "metadata": {
            "tags": []
          }
        }
      ]
    },
    {
      "cell_type": "code",
      "metadata": {
        "id": "ElVLoEujPuj9",
        "colab_type": "code",
        "outputId": "fc41e224-2d8e-4c4a-fa5d-5e7537aa5c12",
        "colab": {}
      },
      "source": [
        "dd = np.array([4.0, 4.3, 4.1, 4.4, 5.0, 5.0, 6.0, 5.1])\n",
        "print(dd)"
      ],
      "execution_count": 0,
      "outputs": [
        {
          "output_type": "stream",
          "text": [
            "[ 4.   4.3  4.1  4.4  5.   5.   6.   5.1]\n"
          ],
          "name": "stdout"
        }
      ]
    },
    {
      "cell_type": "code",
      "metadata": {
        "id": "gUrM21nIPukI",
        "colab_type": "code",
        "outputId": "4a9d5db3-113a-487f-c288-35efcb415249",
        "colab": {}
      },
      "source": [
        "plt.hist(dd)"
      ],
      "execution_count": 0,
      "outputs": [
        {
          "output_type": "execute_result",
          "data": {
            "text/plain": [
              "(array([ 2.,  1.,  1.,  0.,  0.,  3.,  0.,  0.,  0.,  1.]),\n",
              " array([ 4. ,  4.2,  4.4,  4.6,  4.8,  5. ,  5.2,  5.4,  5.6,  5.8,  6. ]),\n",
              " <a list of 10 Patch objects>)"
            ]
          },
          "metadata": {
            "tags": []
          },
          "execution_count": 8
        },
        {
          "output_type": "display_data",
          "data": {
            "image/png": "[encoded data removed]",
            "text/plain": [
              "<matplotlib.figure.Figure at 0x10a3d7d90>"
            ]
          },
          "metadata": {
            "tags": []
          }
        }
      ]
    },
    {
      "cell_type": "code",
      "metadata": {
        "scrolled": true,
        "id": "chJkcfAEPukO",
        "colab_type": "code",
        "outputId": "02badc28-d6d8-44a2-db14-d42937a92db5",
        "colab": {}
      },
      "source": [
        "xx = np.random.normal(5.0, 1.0, 1000)\n",
        "xfit = np.arange(-10.0, 20.0, 0.01)\n",
        "mn = 6.0\n",
        "sig = 2.0\n",
        "amp = 80\n",
        "yfit = amp*np.exp(-0.5*(xfit-mn)**2/sig**2)\n",
        "print(xfit)"
      ],
      "execution_count": 0,
      "outputs": [
        {
          "output_type": "stream",
          "text": [
            "[-10.    -9.99  -9.98 ...,  19.97  19.98  19.99]\n"
          ],
          "name": "stdout"
        }
      ]
    },
    {
      "cell_type": "code",
      "metadata": {
        "scrolled": true,
        "id": "qTKvWP-xPukX",
        "colab_type": "code",
        "outputId": "8a85927a-79de-4d18-9f44-c38193f642fa",
        "colab": {}
      },
      "source": [
        "plt.hist(xx, bins=30)\n",
        "plt.plot(xfit, yfit)"
      ],
      "execution_count": 0,
      "outputs": [
        {
          "output_type": "execute_result",
          "data": {
            "text/plain": [
              "[<matplotlib.lines.Line2D at 0x10ae6c9d0>]"
            ]
          },
          "metadata": {
            "tags": []
          },
          "execution_count": 10
        },
        {
          "output_type": "display_data",
          "data": {
            "image/png": "[encoded data removed]",
            "text/plain": [
              "<matplotlib.figure.Figure at 0x10ae6c4d0>"
            ]
          },
          "metadata": {
            "tags": []
          }
        }
      ]
    },
    {
      "cell_type": "code",
      "metadata": {
        "id": "9IC3itv8Pukh",
        "colab_type": "code",
        "colab": {}
      },
      "source": [
        ""
      ],
      "execution_count": 0,
      "outputs": []
    }
  ]
}